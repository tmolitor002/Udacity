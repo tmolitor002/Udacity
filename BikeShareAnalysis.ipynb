{
 "cells": [
  {
   "cell_type": "markdown",
   "metadata": {},
   "source": [
    "# 2016 US Bike Share Activity Snapshot\n",
    "\n",
    "## Table of Contents\n",
    "- [Introduction](#intro)\n",
    "- [Posing Questions](#pose_questions)\n",
    "- [Data Collection and Wrangling](#wrangling)\n",
    "  - [Condensing the Trip Data](#condensing)\n",
    "- [Exploratory Data Analysis](#eda)\n",
    "  - [Statistics](#statistics)\n",
    "  - [Visualizations](#visualizations)\n",
    "- [Performing Your Own Analysis](#eda_continued)\n",
    "- [Conclusions](#conclusions)\n",
    "\n",
    "<a id='intro'></a>\n",
    "## Introduction\n",
    "\n",
    "> **Tip**: Quoted sections like this will provide helpful instructions on how to navigate and use a Jupyter notebook.\n",
    "\n",
    "Over the past decade, bicycle-sharing systems have been growing in number and popularity in cities across the world. Bicycle-sharing systems allow users to rent bicycles for short trips, typically 30 minutes or less. Thanks to the rise in information technologies, it is easy for a user of the system to access a dock within the system to unlock or return bicycles. These technologies also provide a wealth of data that can be used to explore how these bike-sharing systems are used.\n",
    "\n",
    "In this project, you will perform an exploratory analysis on data provided by [Motivate](https://www.motivateco.com/), a bike-share system provider for many major cities in the United States. You will compare the system usage between three large cities: New York City, Chicago, and Washington, DC. You will also see if there are any differences within each system for those users that are registered, regular users and those users that are short-term, casual users."
   ]
  },
  {
   "cell_type": "markdown",
   "metadata": {},
   "source": [
    "<a id='pose_questions'></a>\n",
    "## Posing Questions\n",
    "\n",
    "Before looking at the bike sharing data, you should start by asking questions you might want to understand about the bike share data. Consider, for example, if you were working for Motivate. What kinds of information would you want to know about in order to make smarter business decisions? If you were a user of the bike-share service, what factors might influence how you would want to use the service?\n",
    "\n",
    "**Question 1**: Write at least two questions related to bike sharing that you think could be answered by data.\n",
    "\n",
    "**Answer**: \n",
    "\n",
    "Question 1: \"Are there any specific time of day/week/month/year that there is extraordinarily high demand of our bikes, where we might be loosing customers? What about low demand, when we should pull bikes out for maintenances?\"\n",
    "\n",
    "Question 2: \"Where are our customers going? Do we need to move bikes in bulk from popular destinations to popular departures?\"\n",
    "\n",
    "\n",
    "> **Tip**: If you double click on this cell, you will see the text change so that all of the formatting is removed. This allows you to edit this block of text. This block of text is written using [Markdown](http://daringfireball.net/projects/markdown/syntax), which is a way to format text using headers, links, italics, and many other options using a plain-text syntax. You will also use Markdown later in the Nanodegree program. Use **Shift** + **Enter** or **Shift** + **Return** to run the cell and show its rendered form."
   ]
  },
  {
   "cell_type": "markdown",
   "metadata": {},
   "source": [
    "<a id='wrangling'></a>\n",
    "## Data Collection and Wrangling\n",
    "\n",
    "Now it's time to collect and explore our data. In this project, we will focus on the record of individual trips taken in 2016 from our selected cities: New York City, Chicago, and Washington, DC. Each of these cities has a page where we can freely download the trip data.:\n",
    "\n",
    "- New York City (Citi Bike): [Link](https://www.citibikenyc.com/system-data)\n",
    "- Chicago (Divvy): [Link](https://www.divvybikes.com/system-data)\n",
    "- Washington, DC (Capital Bikeshare): [Link](https://www.capitalbikeshare.com/system-data)\n",
    "\n",
    "If you visit these pages, you will notice that each city has a different way of delivering its data. Chicago updates with new data twice a year, Washington DC is quarterly, and New York City is monthly. **However, you do not need to download the data yourself.** The data has already been collected for you in the `/data/` folder of the project files. While the original data for 2016 is spread among multiple files for each city, the files in the `/data/` folder collect all of the trip data for the year into one file per city. Some data wrangling of inconsistencies in timestamp format within each city has already been performed for you. In addition, a random 2% sample of the original data is taken to make the exploration more manageable. \n",
    "\n",
    "**Question 2**: However, there is still a lot of data for us to investigate, so it's a good idea to start off by looking at one entry from each of the cities we're going to analyze. Run the first code cell below to load some packages and functions that you'll be using in your analysis. Then, complete the second code cell to print out the first trip recorded from each of the cities (the second line of each data file).\n",
    "\n",
    "> **Tip**: You can run a code cell like you formatted Markdown cells above by clicking on the cell and using the keyboard shortcut **Shift** + **Enter** or **Shift** + **Return**. Alternatively, a code cell can be executed using the **Play** button in the toolbar after selecting it. While the cell is running, you will see an asterisk in the message to the left of the cell, i.e. `In [*]:`. The asterisk will change into a number to show that execution has completed, e.g. `In [1]`. If there is output, it will show up as `Out [1]:`, with an appropriate number to match the \"In\" number."
   ]
  },
  {
   "cell_type": "code",
   "execution_count": 25,
   "metadata": {},
   "outputs": [],
   "source": [
    "## import all necessary packages and functions.\n",
    "import csv # read and write csv files\n",
    "from datetime import datetime # operations to parse dates\n",
    "from pprint import pprint # use to print data structures like dictionaries in\n",
    "                          # a nicer way than the base print function."
   ]
  },
  {
   "cell_type": "code",
   "execution_count": 26,
   "metadata": {
    "scrolled": true
   },
   "outputs": [
    {
     "name": "stdout",
     "output_type": "stream",
     "text": [
      "\n",
      "City: NYC\n",
      "OrderedDict([('tripduration', '839'),\n",
      "             ('starttime', '1/1/2016 00:09:55'),\n",
      "             ('stoptime', '1/1/2016 00:23:54'),\n",
      "             ('start station id', '532'),\n",
      "             ('start station name', 'S 5 Pl & S 4 St'),\n",
      "             ('start station latitude', '40.710451'),\n",
      "             ('start station longitude', '-73.960876'),\n",
      "             ('end station id', '401'),\n",
      "             ('end station name', 'Allen St & Rivington St'),\n",
      "             ('end station latitude', '40.72019576'),\n",
      "             ('end station longitude', '-73.98997825'),\n",
      "             ('bikeid', '17109'),\n",
      "             ('usertype', 'Customer'),\n",
      "             ('birth year', ''),\n",
      "             ('gender', '0')])\n",
      "\n",
      "City: Chicago\n",
      "OrderedDict([('trip_id', '9080545'),\n",
      "             ('starttime', '3/31/2016 23:30'),\n",
      "             ('stoptime', '3/31/2016 23:46'),\n",
      "             ('bikeid', '2295'),\n",
      "             ('tripduration', '926'),\n",
      "             ('from_station_id', '156'),\n",
      "             ('from_station_name', 'Clark St & Wellington Ave'),\n",
      "             ('to_station_id', '166'),\n",
      "             ('to_station_name', 'Ashland Ave & Wrightwood Ave'),\n",
      "             ('usertype', 'Subscriber'),\n",
      "             ('gender', 'Male'),\n",
      "             ('birthyear', '1990')])\n",
      "\n",
      "City: Washington\n",
      "OrderedDict([('Duration (ms)', '427387'),\n",
      "             ('Start date', '3/31/2016 22:57'),\n",
      "             ('End date', '3/31/2016 23:04'),\n",
      "             ('Start station number', '31602'),\n",
      "             ('Start station', 'Park Rd & Holmead Pl NW'),\n",
      "             ('End station number', '31207'),\n",
      "             ('End station', 'Georgia Ave and Fairmont St NW'),\n",
      "             ('Bike number', 'W20842'),\n",
      "             ('Member Type', 'Registered')])\n"
     ]
    }
   ],
   "source": [
    "def print_first_point(filename):\n",
    "    \"\"\"\n",
    "    This function prints and returns the first data point (second row) from\n",
    "    a csv file that includes a header row.\n",
    "    \"\"\"\n",
    "    # print city name for reference\n",
    "    city = filename.split('-')[0].split('/')[-1]\n",
    "    print('\\nCity: {}'.format(city))\n",
    "    \n",
    "    with open(filename, 'r') as f_in:\n",
    "        trip_reader = csv.DictReader(f_in)\n",
    "        first_trip = next(trip_reader)\n",
    "        pprint(first_trip)\n",
    "        \n",
    "    # output city name and first trip for later testing\n",
    "    return (city, first_trip)\n",
    "\n",
    "# list of files for each city\n",
    "data_files = ['./data/NYC-CitiBike-2016.csv',\n",
    "              './data/Chicago-Divvy-2016.csv',\n",
    "              './data/Washington-CapitalBikeshare-2016.csv',]\n",
    "\n",
    "# print the first trip from each file, store in dictionary\n",
    "example_trips = {}\n",
    "for data_file in data_files:\n",
    "    city, first_trip = print_first_point(data_file)\n",
    "    example_trips[city] = first_trip"
   ]
  },
  {
   "cell_type": "markdown",
   "metadata": {},
   "source": [
    "If everything has been filled out correctly, you should see below the printout of each city name (which has been parsed from the data file name) that the first trip has been parsed in the form of a dictionary. When you set up a `DictReader` object, the first row of the data file is normally interpreted as column names. Every other row in the data file will use those column names as keys, as a dictionary is generated for each row.\n",
    "\n",
    "This will be useful since we can refer to quantities by an easily-understandable label instead of just a numeric index. For example, if we have a trip stored in the variable `row`, then we would rather get the trip duration from `row['duration']` instead of `row[0]`.\n",
    "\n",
    "<a id='condensing'></a>\n",
    "### Condensing the Trip Data\n",
    "\n",
    "It should also be observable from the above printout that each city provides different information. Even where the information is the same, the column names and formats are sometimes different. To make things as simple as possible when we get to the actual exploration, we should trim and clean the data. Cleaning the data makes sure that the data formats across the cities are consistent, while trimming focuses only on the parts of the data we are most interested in to make the exploration easier to work with.\n",
    "\n",
    "You will generate new data files with five values of interest for each trip: trip duration, starting month, starting hour, day of the week, and user type. Each of these may require additional wrangling depending on the city:\n",
    "\n",
    "- **Duration**: This has been given to us in seconds (New York, Chicago) or milliseconds (Washington). A more natural unit of analysis will be if all the trip durations are given in terms of minutes.\n",
    "- **Month**, **Hour**, **Day of Week**: Ridership volume is likely to change based on the season, time of day, and whether it is a weekday or weekend. Use the start time of the trip to obtain these values. The New York City data includes the seconds in their timestamps, while Washington and Chicago do not. The [`datetime`](https://docs.python.org/3/library/datetime.html) package will be very useful here to make the needed conversions.\n",
    "- **User Type**: It is possible that users who are subscribed to a bike-share system will have different patterns of use compared to users who only have temporary passes. Washington divides its users into two types: 'Registered' for users with annual, monthly, and other longer-term subscriptions, and 'Casual', for users with 24-hour, 3-day, and other short-term passes. The New York and Chicago data uses 'Subscriber' and 'Customer' for these groups, respectively. For consistency, you will convert the Washington labels to match the other two.\n",
    "\n",
    "\n",
    "**Question 3a**: Complete the helper functions in the code cells below to address each of the cleaning tasks described above."
   ]
  },
  {
   "cell_type": "code",
   "execution_count": 27,
   "metadata": {},
   "outputs": [],
   "source": [
    "def duration_in_mins(datum, city):\n",
    "    \"\"\"\n",
    "    Takes as input a dictionary containing info about a single trip (datum) and\n",
    "    its origin city (city) and returns the trip duration in units of minutes.\n",
    "    \n",
    "    Remember that Washington is in terms of milliseconds while Chicago and NYC\n",
    "    are in terms of seconds. \n",
    "    \"\"\"\n",
    "    \n",
    "    duration = 0\n",
    "    if city.upper() == 'WASHINGTON':\n",
    "        duration = float(datum['Duration (ms)'])\n",
    "        return duration/60000 # millisceonds to minutes\n",
    "    else:\n",
    "        duration = float(datum['tripduration'])\n",
    "        return duration/60 # seconds to minutes\n",
    "    \n",
    "    return duration\n",
    "\n",
    "\n",
    "# Some tests to check that your code works. There should be no output if all of\n",
    "# the assertions pass. The `example_trips` dictionary was obtained from when\n",
    "# you printed the first trip from each of the original data files.\n",
    "tests = {'NYC': 13.9833,\n",
    "         'Chicago': 15.4333,\n",
    "         'Washington': 7.1231}\n",
    "\n",
    "for city in tests:\n",
    "    assert abs(duration_in_mins(example_trips[city], city) - tests[city]) < .001"
   ]
  },
  {
   "cell_type": "code",
   "execution_count": 28,
   "metadata": {},
   "outputs": [],
   "source": [
    "def time_of_trip(datum, city):\n",
    "    \"\"\"\n",
    "    Takes as input a dictionary containing info about a single trip (datum) and\n",
    "    its origin city (city) and returns the month, hour, and day of the week in\n",
    "    which the trip was made.\n",
    "    \n",
    "    Remember that NYC includes seconds, while Washington and Chicago do not.\n",
    "    \n",
    "    HINT: You should use the datetime module to parse the original date\n",
    "    strings into a format that is useful for extracting the desired information.\n",
    "    see https://docs.python.org/3/library/datetime.html#strftime-and-strptime-behavior\n",
    "    \"\"\"\n",
    "    \n",
    "    if city.upper() == 'CHICAGO':\n",
    "        # convert trip start for Chicago\n",
    "        dt_object = datetime.strptime(datum['starttime'], '%m/%d/%Y %H:%M')\n",
    "        month = int(dt_object.strftime('%m')) # month\n",
    "        day = int(dt_object.strftime('%d')) # day\n",
    "        year = int(dt_object.strftime('%Y')) # year\n",
    "        hour = int(dt_object.strftime('%H')) # hour\n",
    "        minute = int(dt_object.strftime('%M')) # minute\n",
    "        day_of_week = dt_object.strftime('%A') # day of week\n",
    "        \n",
    "        return(month, hour, day_of_week)\n",
    "    \n",
    "    elif city.upper() == 'NYC':\n",
    "        # convert trip start for NYC\n",
    "        dt_object = datetime.strptime(datum['starttime'], '%m/%d/%Y %H:%M:%S')\n",
    "        month = int(dt_object.strftime('%m')) # month\n",
    "        day = int(dt_object.strftime('%d')) # day\n",
    "        year = int(dt_object.strftime('%Y')) # year\n",
    "        hour = int(dt_object.strftime('%H')) # hour\n",
    "        minute = int(dt_object.strftime('%M')) # minute\n",
    "        day_of_week = dt_object.strftime('%A') # day of week\n",
    "        \n",
    "        return(month, hour, day_of_week)\n",
    "        \n",
    "    else: # City must be Washington\n",
    "        dt_object = datetime.strptime(datum['Start date'], '%m/%d/%Y %H:%M')\n",
    "        month = int(dt_object.strftime('%m')) # month\n",
    "        day = int(dt_object.strftime('%d')) # day\n",
    "        year = int(dt_object.strftime('%Y')) # year\n",
    "        hour = int(dt_object.strftime('%H')) # hour\n",
    "        minute = int(dt_object.strftime('%M')) # minute\n",
    "        day_of_week = dt_object.strftime('%A') # day of week\n",
    "        \n",
    "        return(month, hour, day_of_week)\n",
    "    \n",
    "\n",
    "\n",
    "\n",
    "# Some tests to check that your code works. There should be no output if all of\n",
    "# the assertions pass. The `example_trips` dictionary was obtained from when\n",
    "# you printed the first trip from each of the original data files.\n",
    "tests = {'NYC': (1, 0, 'Friday'),\n",
    "         'Chicago': (3, 23, 'Thursday'),\n",
    "         'Washington': (3, 22, 'Thursday')}\n",
    "\n",
    "for city in tests:\n",
    "    assert time_of_trip(example_trips[city], city) == tests[city]"
   ]
  },
  {
   "cell_type": "code",
   "execution_count": 29,
   "metadata": {},
   "outputs": [],
   "source": [
    "def type_of_user(datum, city):\n",
    "    \"\"\"\n",
    "    Takes as input a dictionary containing info about a single trip (datum) and\n",
    "    its origin city (city) and returns the type of system user that made the\n",
    "    trip.\n",
    "    \n",
    "    Remember that Washington has different category names compared to Chicago\n",
    "    and NYC. \n",
    "    \"\"\"\n",
    "    \n",
    "    if city.upper() == 'WASHINGTON':\n",
    "        user_type = datum['Member Type']\n",
    "        if user_type.upper() == 'REGISTERED':\n",
    "            user_type = 'Subscriber'\n",
    "        else:\n",
    "            user_type = 'Customer'\n",
    "        return user_type\n",
    "    else:\n",
    "        user_type = datum['usertype']\n",
    "        return user_type\n",
    "\n",
    "\n",
    "# Some tests to check that your code works. There should be no output if all of\n",
    "# the assertions pass. The `example_trips` dictionary was obtained from when\n",
    "# you printed the first trip from each of the original data files.\n",
    "tests = {'NYC': 'Customer',\n",
    "         'Chicago': 'Subscriber',\n",
    "         'Washington': 'Subscriber'}\n",
    "\n",
    "for city in tests:\n",
    "    assert type_of_user(example_trips[city], city) == tests[city]"
   ]
  },
  {
   "cell_type": "markdown",
   "metadata": {},
   "source": [
    "**Question 3b**: Now, use the helper functions you wrote above to create a condensed data file for each city consisting only of the data fields indicated above. In the `/examples/` folder, you will see an example datafile from the [Bay Area Bike Share](http://www.bayareabikeshare.com/open-data) before and after conversion. Make sure that your output is formatted to be consistent with the example file."
   ]
  },
  {
   "cell_type": "code",
   "execution_count": 30,
   "metadata": {},
   "outputs": [],
   "source": [
    "def condense_data(in_file, out_file, city):\n",
    "    \"\"\"\n",
    "    This function takes full data from the specified input file\n",
    "    and writes the condensed data to a specified output file. The city\n",
    "    argument determines how the input file will be parsed.\n",
    "    \n",
    "    HINT: See the cell below to see how the arguments are structured!\n",
    "    \"\"\"\n",
    "    \n",
    "    with open(out_file, 'w') as f_out, open(in_file, 'r') as f_in:\n",
    "        # set up csv DictWriter object - writer requires column names for the\n",
    "        # first row as the \"fieldnames\" argument\n",
    "        out_colnames = ['duration', 'month', 'hour', 'day_of_week', 'user_type']        \n",
    "        trip_writer = csv.DictWriter(f_out, fieldnames = out_colnames)\n",
    "        trip_writer.writeheader()\n",
    "        \n",
    "        trip_reader = csv.DictReader(f_in)\n",
    "\n",
    "        # collect data from and process each row\n",
    "        for row in trip_reader:\n",
    "            # set up a dictionary to hold the values for the cleaned and trimmed\n",
    "            # data point\n",
    "            new_point = {}\n",
    "\n",
    "            ## TODO: use the helper functions to get the cleaned data from  ##\n",
    "            ## the original data dictionaries.                              ##\n",
    "            new_point['duration'] = duration_in_mins(row, city)\n",
    "            new_point['month'] = time_of_trip(row, city)[0]\n",
    "            new_point['hour'] = time_of_trip(row, city)[1]\n",
    "            new_point['day_of_week'] = time_of_trip(row, city)[2]\n",
    "            new_point['user_type'] = type_of_user(row, city)\n",
    "            \n",
    "            trip_writer.writerow(new_point)     \n",
    "            "
   ]
  },
  {
   "cell_type": "code",
   "execution_count": 31,
   "metadata": {},
   "outputs": [
    {
     "name": "stdout",
     "output_type": "stream",
     "text": [
      "\n",
      "City: Washington\n",
      "OrderedDict([('duration', '7.123116666666666'),\n",
      "             ('month', '3'),\n",
      "             ('hour', '22'),\n",
      "             ('day_of_week', 'Thursday'),\n",
      "             ('user_type', 'Subscriber')])\n",
      "\n",
      "City: Chicago\n",
      "OrderedDict([('duration', '15.433333333333334'),\n",
      "             ('month', '3'),\n",
      "             ('hour', '23'),\n",
      "             ('day_of_week', 'Thursday'),\n",
      "             ('user_type', 'Subscriber')])\n",
      "\n",
      "City: NYC\n",
      "OrderedDict([('duration', '13.983333333333333'),\n",
      "             ('month', '1'),\n",
      "             ('hour', '0'),\n",
      "             ('day_of_week', 'Friday'),\n",
      "             ('user_type', 'Customer')])\n"
     ]
    }
   ],
   "source": [
    "# Run this cell to check your work\n",
    "city_info = {'Washington': {'in_file': './data/Washington-CapitalBikeshare-2016.csv',\n",
    "                            'out_file': './data/Washington-2016-Summary.csv'},\n",
    "             'Chicago': {'in_file': './data/Chicago-Divvy-2016.csv',\n",
    "                         'out_file': './data/Chicago-2016-Summary.csv'},\n",
    "             'NYC': {'in_file': './data/NYC-CitiBike-2016.csv',\n",
    "                     'out_file': './data/NYC-2016-Summary.csv'}}\n",
    "\n",
    "for city, filenames in city_info.items():\n",
    "    condense_data(filenames['in_file'], filenames['out_file'], city)\n",
    "    print_first_point(filenames['out_file'])"
   ]
  },
  {
   "cell_type": "markdown",
   "metadata": {},
   "source": [
    "> **Tip**: If you save a jupyter Notebook, the output from running code blocks will also be saved. However, the state of your workspace will be reset once a new session is started. Make sure that you run all of the necessary code blocks from your previous session to reestablish variables and functions before picking up where you last left off.\n",
    "\n",
    "<a id='eda'></a>\n",
    "## Exploratory Data Analysis\n",
    "\n",
    "Now that you have the data collected and wrangled, you're ready to start exploring the data. In this section you will write some code to compute descriptive statistics from the data. You will also be introduced to the `matplotlib` library to create some basic histograms of the data.\n",
    "\n",
    "<a id='statistics'></a>\n",
    "### Statistics\n",
    "\n",
    "First, let's compute some basic counts. The first cell below contains a function that uses the csv module to iterate through a provided data file, returning the number of trips made by subscribers and customers. The second cell runs this function on the example Bay Area data in the `/examples/` folder. Modify the cells to answer the question below.\n",
    "\n",
    "**Question 4a**: Which city has the highest number of trips? Which city has the highest proportion of trips made by \n",
    "subscribers? Which city has the highest proportion of trips made by short-term customers?\n",
    "\n",
    "**Answer**:\n",
    "* Most Trips: **NYC** had the most total trips with **276,798**\n",
    "* Highest Subscriber: **NYC** had the highest percentage of trips by subscribers with **88.84%**\n",
    "* Highest Short-term: **Chicago** had the highest percentage of trips by custoemrs with **23.77%**"
   ]
  },
  {
   "cell_type": "code",
   "execution_count": 32,
   "metadata": {},
   "outputs": [],
   "source": [
    "def number_of_trips(filename):\n",
    "    \"\"\"\n",
    "    This function reads in a file with trip data and reports the number of\n",
    "    trips made by subscribers, customers, and total overall.\n",
    "    \"\"\"\n",
    "    with open(filename, 'r') as f_in:\n",
    "        # set up csv reader object\n",
    "        reader = csv.DictReader(f_in)\n",
    "        \n",
    "        # initialize count variables\n",
    "        n_subscribers = 0\n",
    "        n_customers = 0\n",
    "        \n",
    "        # tally up ride types\n",
    "        for row in reader:\n",
    "            if row['user_type'] == 'Subscriber':\n",
    "                n_subscribers += 1\n",
    "            else:\n",
    "                n_customers += 1\n",
    "        \n",
    "        # compute total number of rides\n",
    "        n_total = n_subscribers + n_customers\n",
    "        \n",
    "        # return tallies as a tuple\n",
    "        return(n_subscribers, n_customers, n_total)"
   ]
  },
  {
   "cell_type": "code",
   "execution_count": 33,
   "metadata": {},
   "outputs": [
    {
     "name": "stdout",
     "output_type": "stream",
     "text": [
      "(54982, 17149, 72131)\n"
     ]
    }
   ],
   "source": [
    "## Modify this and the previous cell to answer Question 4a. Remember to run ##\n",
    "## the function on the cleaned data files you created from Question 3.      ##\n",
    "\n",
    "data_file = './data/Chicago-2016-Summary.csv'\n",
    "print(number_of_trips(data_file))\n",
    "\n",
    "# Chicago:    './data/Chicago-2016-Summary.csv'\n",
    "# Washington: './data/Washington-2016-Summary.csv'\n",
    "# NYC:        './data/NYC-2016-Summary.csv'\n"
   ]
  },
  {
   "cell_type": "markdown",
   "metadata": {},
   "source": [
    "> **Tip**: In order to add additional cells to a notebook, you can use the \"Insert Cell Above\" and \"Insert Cell Below\" options from the menu bar above. There is also an icon in the toolbar for adding new cells, with additional icons for moving the cells up and down the document. By default, new cells are of the code type; you can also specify the cell type (e.g. Code or Markdown) of selected cells from the Cell menu or the dropdown in the toolbar.\n",
    "\n",
    "Now, you will write your own code to continue investigating properties of the data.\n",
    "\n",
    "**Question 4b**: Bike-share systems are designed for riders to take short trips. Most of the time, users are allowed to take trips of 30 minutes or less with no additional charges, with overage charges made for trips of longer than that duration. What is the average trip length for each city? What proportion of rides made in each city are longer than 30 minutes?\n",
    "\n",
    "**Answer**: Replace this text with your reponse!"
   ]
  },
  {
   "cell_type": "code",
   "execution_count": 43,
   "metadata": {
    "scrolled": true
   },
   "outputs": [
    {
     "name": "stdout",
     "output_type": "stream",
     "text": [
      "In NYC, the average trip length is 15.81 minutes.\n",
      "In NYC, the 7.30% of rides are longer than 30 minutes.\n",
      "In Chicago, the average trip length is 16.56 minutes.\n",
      "In Chicago, the 8.33% of rides are longer than 30 minutes.\n",
      "In Washington, the average trip length is 18.93 minutes.\n",
      "In Washington, the 10.84% of rides are longer than 30 minutes.\n"
     ]
    }
   ],
   "source": [
    "def trip_length_stat(input_csv):\n",
    "\n",
    "    durations = []\n",
    "    \n",
    "    with open(input_csv, 'r') as f_in:\n",
    "        reader = csv.DictReader(f_in)\n",
    "        for row in reader:\n",
    "            durations.append(float(row['duration']))\n",
    "    \n",
    "    total_rides = len(durations)\n",
    "    avg_duration = sum(durations) / total_rides\n",
    "    \n",
    "    # compute rides greater than 30 mins followed by proportion\n",
    "    n_gt_30_mins = len([time for time in durations if time > 30])\n",
    "    proportion_gt_30_mins = 100*n_gt_30_mins/total_rides\n",
    "\n",
    "    return avg_duration, proportion_gt_30_mins\n",
    "\n",
    "\n",
    "summary_files = ['./data/NYC-2016-Summary.csv',\n",
    "                 './data/Chicago-2016-Summary.csv',\n",
    "                 './data/Washington-2016-Summary.csv']\n",
    "\n",
    "for file in summary_files:\n",
    "    avg_trip_duration = trip_length_stat(file)[0]\n",
    "    gt_30_mins = trip_length_stat(file)[1]\n",
    "    city = file.split('-')[0].split('/')[-1]\n",
    "    print('In {}, the average trip length is {:.2f} minutes.'.format(city,avg_trip_duration))\n",
    "    print('In {}, the {:.2f}% of rides are longer than 30 minutes.'.format(city, gt_30_mins))"
   ]
  },
  {
   "cell_type": "markdown",
   "metadata": {},
   "source": [
    "**Question 4c**: Dig deeper into the question of trip duration based on ridership. Choose one city. Within that city, which type of user takes longer rides on average: Subscribers or Customers?\n",
    "\n",
    "**Answer**: Replace this text with your response!"
   ]
  },
  {
   "cell_type": "code",
   "execution_count": 48,
   "metadata": {},
   "outputs": [
    {
     "name": "stdout",
     "output_type": "stream",
     "text": [
      "In Chicago, the overall average of all user types is: 16.56 minutes. The average Subscriber trip in Chicago is 12.07 minutes and the average Customer trip duration is 30.98 minutes.\n"
     ]
    }
   ],
   "source": [
    "# (sort of) extension/modification of previous function\n",
    "def trip_length_stat1(input_csv):\n",
    "    \n",
    "    dur = []\n",
    "    dur_sub = []\n",
    "    dur_cust = []\n",
    "    \n",
    "    with open(input_csv, 'r') as f_in:\n",
    "        reader = csv.DictReader(f_in)\n",
    "        for row in reader:\n",
    "            dur.append(float(row['duration']))\n",
    "            if row['user_type'] == 'Subscriber':\n",
    "                dur_sub.append(float(row['duration']))\n",
    "            else:\n",
    "                dur_cust.append(float(row['duration']))\n",
    "\n",
    "    city = input_csv.split('-')[0].split('/')[-1]\n",
    "    total_avg = sum(dur) / len(dur)\n",
    "    subscriber_avg = sum(dur_sub) / len(dur_sub)\n",
    "    customer_avg = sum(dur_cust) / len(dur_cust)\n",
    "    \n",
    "    return city, total_avg, subscriber_avg, customer_avg\n",
    "\n",
    "city, avg_total, avg_subscriber, avg_customer = trip_length_stat1('./data/Chicago-2016-Summary.csv')\n",
    "print(\"In {}, the overall average of all user types is: {:.2f} minutes. The average Subscriber trip in {} is {:.2f} minutes and the average \" \\\n",
    "           \"Customer trip duration is {:.2f} minutes.\".format(city, avg_total, city, avg_subscriber, avg_customer))"
   ]
  },
  {
   "cell_type": "markdown",
   "metadata": {},
   "source": [
    "<a id='visualizations'></a>\n",
    "### Visualizations\n",
    "\n",
    "The last set of values that you computed should have pulled up an interesting result. While the mean trip time for Subscribers is well under 30 minutes, the mean trip time for Customers is actually _above_ 30 minutes! It will be interesting for us to look at how the trip times are distributed. In order to do this, a new library will be introduced here, `matplotlib`. Run the cell below to load the library and to generate an example plot."
   ]
  },
  {
   "cell_type": "code",
   "execution_count": 36,
   "metadata": {},
   "outputs": [
    {
     "data": {
      "image/png": "[encoded data removed]",
      "text/plain": [
       "<matplotlib.figure.Figure at 0x7fbca3344550>"
      ]
     },
     "metadata": {
      "needs_background": "light"
     },
     "output_type": "display_data"
    }
   ],
   "source": [
    "# load library\n",
    "import matplotlib.pyplot as plt\n",
    "\n",
    "# this is a 'magic word' that allows for plots to be displayed\n",
    "# inline with the notebook. If you want to know more, see:\n",
    "# http://ipython.readthedocs.io/en/stable/interactive/magics.html\n",
    "%matplotlib inline \n",
    "\n",
    "# example histogram, data taken from bay area sample\n",
    "data = [ 7.65,  8.92,  7.42,  5.50, 16.17,  4.20,  8.98,  9.62, 11.48, 14.33,\n",
    "        19.02, 21.53,  3.90,  7.97,  2.62,  2.67,  3.08, 14.40, 12.90,  7.83,\n",
    "        25.12,  8.30,  4.93, 12.43, 10.60,  6.17, 10.88,  4.78, 15.15,  3.53,\n",
    "         9.43, 13.32, 11.72,  9.85,  5.22, 15.10,  3.95,  3.17,  8.78,  1.88,\n",
    "         4.55, 12.68, 12.38,  9.78,  7.63,  6.45, 17.38, 11.90, 11.52,  8.63,]\n",
    "plt.hist(data)\n",
    "plt.title('Distribution of Trip Durations')\n",
    "plt.xlabel('Duration (m)')\n",
    "plt.show()"
   ]
  },
  {
   "cell_type": "markdown",
   "metadata": {},
   "source": [
    "In the above cell, we collected fifty trip times in a list, and passed this list as the first argument to the `.hist()` function. This function performs the computations and creates plotting objects for generating a histogram, but the plot is actually not rendered until the `.show()` function is executed. The `.title()` and `.xlabel()` functions provide some labeling for plot context.\n",
    "\n",
    "You will now use these functions to create a histogram of the trip times for the city you selected in question 4c. Don't separate the Subscribers and Customers for now: just collect all of the trip times and plot them."
   ]
  },
  {
   "cell_type": "code",
   "execution_count": 49,
   "metadata": {},
   "outputs": [
    {
     "data": {
      "image/png": "[encoded data removed]",
      "text/plain": [
       "<matplotlib.figure.Figure at 0x7fbc973140f0>"
      ]
     },
     "metadata": {
      "needs_background": "light"
     },
     "output_type": "display_data"
    }
   ],
   "source": [
    "durations = []\n",
    "input_csv = './data/NYC-2016-Summary.csv'\n",
    "\n",
    "# read from input file\n",
    "with open(input_csv, 'r') as f_in:\n",
    "    reader = csv.DictReader(f_in)\n",
    "    for row in reader:\n",
    "        durations.append(float(row['duration']))\n",
    "\n",
    "plt.hist(durations)\n",
    "plt.title('Distribution of Trip Durations in NYC')\n",
    "plt.xlabel('Duration (min)')\n",
    "plt.show()"
   ]
  },
  {
   "cell_type": "markdown",
   "metadata": {},
   "source": [
    "If you followed the use of the `.hist()` and `.show()` functions exactly like in the example, you're probably looking at a plot that's completely unexpected. The plot consists of one extremely tall bar on the left, maybe a very short second bar, and a whole lot of empty space in the center and right. Take a look at the duration values on the x-axis. This suggests that there are some highly infrequent outliers in the data. Instead of reprocessing the data, you will use additional parameters with the `.hist()` function to limit the range of data that is plotted. Documentation for the function can be found [[here]](https://matplotlib.org/devdocs/api/_as_gen/matplotlib.pyplot.hist.html#matplotlib.pyplot.hist).\n",
    "\n",
    "**Question 5**: Use the parameters of the `.hist()` function to plot the distribution of trip times for the Subscribers in your selected city. Do the same thing for only the Customers. Add limits to the plots so that only trips of duration less than 75 minutes are plotted. As a bonus, set the plots up so that bars are in five-minute wide intervals. For each group, where is the peak of each distribution? How would you describe the shape of each distribution?\n",
    "\n",
    "**Answer**: In Chicago, each group appears to be distributed with a normal curve, with subscribers considerably more pointed than customers. It is likely that subscribers who are likely more frequent users, are more keenly aware of their 30 minute overage charge that is not included in their subscription, and with more frequent use, have a better understanding of how far they can travel in 30 minutes before needing to return to the next bike station. Customers on the other hand, less familiar with the 30 minute rule, are spread out a bit more, and appear less concerned (although aware) of overages. With less frequent use, they are likely more carefree about one or two overage charges."
   ]
  },
  {
   "cell_type": "code",
   "execution_count": 57,
   "metadata": {},
   "outputs": [
    {
     "data": {
      "image/png": "[encoded data removed]",
      "text/plain": [
       "<matplotlib.figure.Figure at 0x7fbc96832b00>"
      ]
     },
     "metadata": {},
     "output_type": "display_data"
    }
   ],
   "source": [
    "dur_sub = []\n",
    "dur_cust = []\n",
    "input_csv = './data/Chicago-2016-Summary.csv'\n",
    "\n",
    "\n",
    "avg_ride_time, proportion_gt_30mins = trip_length_stat(input_csv)\n",
    "\n",
    "# read from input file\n",
    "with open(input_csv, 'r') as f_in:\n",
    "    reader = csv.DictReader(f_in)\n",
    "    for row in reader:\n",
    "        if float(row['duration']) < 75:\n",
    "            if row['user_type'] == 'Subscriber':\n",
    "                dur_sub.append(float(row['duration']))\n",
    "            else:\n",
    "                dur_cust.append(float(row['duration']))\n",
    "\n",
    "bins = [i for i in range(0,80,5)]\n",
    "\n",
    "plt.style.use('fivethirtyeight')\n",
    "plt.hist(dur_sub, bins,range=(0,75), label='Subscribers')\n",
    "plt.hist(dur_cust, bins, range=(0,75), label='Customers')\n",
    "plt.title('Chicago Trip Distribution')\n",
    "plt.xlabel('Duration (min)')\n",
    "plt.ylabel('Users')\n",
    "\n",
    "plt.legend()\n",
    "plt.show()"
   ]
  },
  {
   "cell_type": "markdown",
   "metadata": {
    "collapsed": true
   },
   "source": [
    "<a id='eda_continued'></a>\n",
    "## Performing Your Own Analysis\n",
    "\n",
    "So far, you've performed an initial exploration into the data available. You have compared the relative volume of trips made between three U.S. cities and the ratio of trips made by Subscribers and Customers. For one of these cities, you have investigated differences between Subscribers and Customers in terms of how long a typical trip lasts. Now it is your turn to continue the exploration in a direction that you choose. Here are a few suggestions for questions to explore:\n",
    "\n",
    "- How does ridership differ by month or season? Which month / season has the highest ridership? Does the ratio of Subscriber trips to Customer trips change depending on the month or season?\n",
    "- Is the pattern of ridership different on the weekends versus weekdays? On what days are Subscribers most likely to use the system? What about Customers? Does the average duration of rides change depending on the day of the week?\n",
    "- During what time of day is the system used the most? Is there a difference in usage patterns for Subscribers and Customers?\n",
    "\n",
    "If any of the questions you posed in your answer to question 1 align with the bullet points above, this is a good opportunity to investigate one of them. As part of your investigation, you will need to create a visualization. If you want to create something other than a histogram, then you might want to consult the [Pyplot documentation](https://matplotlib.org/devdocs/api/pyplot_summary.html). In particular, if you are plotting values across a categorical variable (e.g. city, user type), a bar chart will be useful. The [documentation page for `.bar()`](https://matplotlib.org/devdocs/api/_as_gen/matplotlib.pyplot.bar.html#matplotlib.pyplot.bar) includes links at the bottom of the page with examples for you to build off of for your own use.\n",
    "\n",
    "**Question 6**: Continue the investigation by exploring another question that could be answered by the data available. Document the question you want to explore below. Your investigation should involve at least two variables and should compare at least two groups. You should also use at least one visualization as part of your explorations.\n",
    "\n",
    "**Answer**: The earlier distribution of Chicago subscribers and customers had me wondering about how much exactly in overage charges are being paid by the customers and subscribers. Additionally, how would that change if we adjusted some of the variables at play.\n",
    "\n",
    "Since the given information only suggest that the base time of 30 minutes is included with each ride, but no further information is given, I made a couple of assumptions:\n",
    "\n",
    "- There is no limit to how often a subscriber can park the bike at a station and then start a new ride. If there was, we would need more in depth information such as a customer ID and date stamp to calculate any overuse fees.\n",
    "- The `base` amount of time is 30 minutes (as given). These graphs get interesting as this is changed (although it is fair to assume rider behavior would change as well).\n",
    "- Riders are charged at a flat rate, where the pay an extra `amount` for every `interval` they go over the `base` amount of time. Changes to these numbers are also likely to impact rider behavior.\n",
    "- I assigned the `amount` variable to a default of 1 and the `interval` variable to a default of 5, so that a rider is charged and extra $1 for every additional 5 minutes they ride. These variables can be adjusted at the top of the next cell.\n",
    "\n",
    "When thinking about this question, I originally thought that the extra charges would be fairly close. While the distribution showed that customers are more likely to go over the 30 minute threshold, I still expected about a 40/60 split.\n",
    "\n",
    "With about 80% of overage chages coming from customers, I was a bit shocked. I wanted to see the share of total ride time between customers and subscribers, so that led me to create a second pie chart. To see that the time spent on bikes is close to even, but the overage fees are mostly from customers, shows me that the two are very different groups of people, and are using the rental bikes for two very different reasons.\n",
    "\n",
    "From a profitability standpoint, this seems to be good evidence that the City of Chicago should focus a bit more on targeting casual customers, as one or two time users will likely end up paying more in overage charges. However, this data alone is not enough to support that.\n",
    "\n",
    "To take this another step forward, I would be interested to see what the costs of a subscription to a rental bike is, whether their are different tier subscriptions, and having some sort of `subscriber_id` field to get a better understanding of how many subscribers there are, how frequently they are using the bikes, and how much they might be saving compared to normal customers. With all of that together, we could also get a view into what type of customers are more profitable (or less costly). Another interesting field could be `bike_id` to get a more detailed view of the travel pattern of certain bikes, and what type of costs may be associated with moving bicycles from one location to another. Paired with information on maintenance cost (routine, corrective, etc.,) as well as initial purchase costs and expected lifecycle time, and any other information, we could begin to get a real clear view into the effectiveness of the ride-share program and it's costs/benefits to the users. Lastly, docking station data could give a great insight into the usage as well. There may be certain stations that are empty for long periods of time with no bikes to rent. Similarily, some stations may be full, leaving riders upset that their is no where for them to park."
   ]
  },
  {
   "cell_type": "code",
   "execution_count": 89,
   "metadata": {},
   "outputs": [
    {
     "name": "stdout",
     "output_type": "stream",
     "text": [
      "Total extra charges are:  46919.0\n",
      "Subscriber extra charges are:  9204.0\n",
      "Customer extra charges are:  37715.0\n"
     ]
    },
    {
     "data": {
      "image/png": "[encoded data removed]",
      "text/plain": [
       "<matplotlib.figure.Figure at 0x7fbc96896320>"
      ]
     },
     "metadata": {},
     "output_type": "display_data"
    },
    {
     "name": "stdout",
     "output_type": "stream",
     "text": [
      "Total ride time in Chicago is:  1194751.0\n",
      "Subscriber ride time in Chicago is:  663479.0\n",
      "Customer ride time in Chicago is:  531272.0\n"
     ]
    },
    {
     "data": {
      "image/png": "[encoded data removed]",
      "text/plain": [
       "<matplotlib.figure.Figure at 0x7fbc967d5518>"
      ]
     },
     "metadata": {},
     "output_type": "display_data"
    }
   ],
   "source": [
    "import matplotlib.pyplot as plt\n",
    "\n",
    "base = 30 # base amount of time included in initial rental in minutes\n",
    "amount = 1 # extra amount charged per interval over base time\n",
    "interval = 5 # time interval before another amount is added to charge in minutes\n",
    "input_csv = './data/Chicago-2016-Summary.csv'\n",
    "\n",
    "sub_dur = []\n",
    "cust_dur = []\n",
    "total_dur = []\n",
    "sub_charge = []\n",
    "cust_charge = []\n",
    "total_charge = []\n",
    "\n",
    "\n",
    "def extra_charge(duration, base, amount, interval):\n",
    "    t_over = duration - base\n",
    "    if t_over % interval == 0:\n",
    "        n_charges = (t_over/interval)*amount\n",
    "    else:\n",
    "        n_charges = (int(round(t_over/interval, 0)))*amount + amount\n",
    "    return n_charges\n",
    "\n",
    "\n",
    "with open(input_csv, 'r') as f_in:\n",
    "    reader = csv.DictReader(f_in)\n",
    "    bases = base\n",
    "    amounts = amount\n",
    "    intervals = interval\n",
    "    for row in reader:\n",
    "        dur = float(row['duration'])\n",
    "        if dur < bases:\n",
    "            total_charge.append(0)\n",
    "            sub_charge.append(0)\n",
    "            cust_charge.append(0)\n",
    "            total_dur.append(float(row['duration']))\n",
    "            if row['user_type'] == 'Subscriber':\n",
    "                sub_dur.append(float(row['duration']))\n",
    "            else:\n",
    "                cust_dur.append(float(row['duration']))\n",
    "        elif row['user_type'] == 'Subscriber':\n",
    "            total_charge.append(extra_charge(float(row['duration']), bases, amounts, intervals))\n",
    "            sub_charge.append(extra_charge(float(row['duration']), bases, amounts, intervals))\n",
    "            cust_charge.append(0)\n",
    "            total_dur.append(float(row['duration']))\n",
    "            sub_dur.append(float(row['duration']))\n",
    "        else:\n",
    "            total_charge.append(extra_charge(float(row['duration']), bases, amounts, intervals))\n",
    "            sub_charge.append(0)\n",
    "            cust_charge.append(extra_charge(float(row['duration']), bases, amounts, intervals))\n",
    "            total_dur.append(float(row['duration']))\n",
    "            cust_dur.append(float(row['duration']))\n",
    "    \n",
    "total_extra_charges = sum(total_charge)\n",
    "sub_extra_charges = sum(sub_charge)\n",
    "cust_extra_charges = sum(cust_charge)\n",
    "total_duration = sum(total_dur)\n",
    "sub_duration = sum(sub_dur)\n",
    "cust_duration = sum(cust_dur)\n",
    "\n",
    "print('Total extra charges are: ', total_extra_charges)\n",
    "print('Subscriber extra charges are: ', sub_extra_charges)\n",
    "print('Customer extra charges are: ', cust_extra_charges)\n",
    "    \n",
    "labels = 'Subscribers', 'Customers'\n",
    "sizes_1 = [(sub_extra_charges/total_extra_charges), (cust_extra_charges/total_extra_charges)]\n",
    "sizes_2 = [(sub_duration/total_duration), (cust_duration/total_duration)]\n",
    "explode = (0, 0.2)\n",
    "\n",
    "plt.style.use('fivethirtyeight')\n",
    "fig1, ax1 = plt.subplots()\n",
    "ax1.pie(sizes_1, explode=explode, labels=labels, autopct='%1.1f%%',\n",
    "        shadow=True, startangle = 90)\n",
    "ax1.axis('equal')\n",
    "plt.title('Chicago Trip Overage Charges')\n",
    "plt.show()\n",
    "\n",
    "\n",
    "print('Total ride time in Chicago is: ', round(total_duration, 0))\n",
    "print('Subscriber ride time in Chicago is: ', round(sub_duration, 0))\n",
    "print('Customer ride time in Chicago is: ', round(cust_duration, 0))\n",
    "\n",
    "\n",
    "fig2, ax2 = plt.subplots()\n",
    "ax2.pie(sizes_2, explode = explode, labels=labels, autopct='%1.1f%%',\n",
    "        shadow=True, startangle = 90)\n",
    "ax2.axis('equal')\n",
    "plt.title('Chicago Share of Rental Time')\n",
    "plt.show()\n",
    "\n"
   ]
  },
  {
   "cell_type": "markdown",
   "metadata": {},
   "source": [
    "<a id='conclusions'></a>\n",
    "## Conclusions\n",
    "\n",
    "Congratulations on completing the project! This is only a sampling of the data analysis process: from generating questions, wrangling the data, and to exploring the data. Normally, at this point in the data analysis process, you might want to draw conclusions about the data by performing a statistical test or fitting the data to a model for making predictions. There are also a lot of potential analyses that could be performed on the data which are not possible with only the data provided. For example, detailed location data has not been investigated. Where are the most commonly used docks? What are the most common routes? As another example, weather has potential to have a large impact on daily ridership. How much is ridership impacted when there is rain or snow? Are subscribers or customers affected more by changes in weather?\n",
    "\n",
    "**Question 7**: Putting the bike share data aside, think of a topic or field of interest where you would like to be able to apply the techniques of data science. What would you like to be able to learn from your chosen subject?\n",
    "\n",
    "**Answer**: Any large dataset is a good dataset. At work, I would like to apply this to better serving our customer's needs and gaining a better understanding of market trends. We have access to a large amount of data where these techniques can be utilized.\n",
    "\n",
    "On a personal level, I am in a fairly competitve fantasy football league. While there are tools out there at a cost, I would like to see how using large historical datasets of player statistics can help me when it comes to draft day, as well as setting my lineup and working the waiver wire. I created one predictive model and while it didn't serve me well in one league, of the 10 or so people I shared it with, they were all able to finish in the top tiers of their league, so I am looking forward to imporving for the next season."
   ]
  },
  {
   "cell_type": "code",
   "execution_count": 90,
   "metadata": {},
   "outputs": [
    {
     "data": {
      "text/plain": [
       "0"
      ]
     },
     "execution_count": 90,
     "metadata": {},
     "output_type": "execute_result"
    }
   ],
   "source": [
    "from subprocess import call\n",
    "call(['python', '-m', 'nbconvert', 'Bike_Share_Analysis.ipynb'])"
   ]
  },
  {
   "cell_type": "code",
   "execution_count": null,
   "metadata": {},
   "outputs": [],
   "source": []
  }
 ],
 "metadata": {
  "anaconda-cloud": {},
  "kernelspec": {
   "display_name": "Python 3",
   "language": "python",
   "name": "python3"
  },
  "language_info": {
   "codemirror_mode": {
    "name": "ipython",
    "version": 3
   },
   "file_extension": ".py",
   "mimetype": "text/x-python",
   "name": "python",
   "nbconvert_exporter": "python",
   "pygments_lexer": "ipython3",
   "version": "3.6.3"
  }
 },
 "nbformat": 4,
 "nbformat_minor": 1
}
